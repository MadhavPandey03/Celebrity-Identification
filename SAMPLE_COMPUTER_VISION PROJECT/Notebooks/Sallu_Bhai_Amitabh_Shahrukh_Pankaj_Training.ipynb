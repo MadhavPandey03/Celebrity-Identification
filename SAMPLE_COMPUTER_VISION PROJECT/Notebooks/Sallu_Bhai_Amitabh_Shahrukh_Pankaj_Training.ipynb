{
 "cells": [
  {
   "cell_type": "code",
   "execution_count": 1,
   "id": "0b7a31c7",
   "metadata": {},
   "outputs": [],
   "source": [
    "import os\n",
    "import cv2 as cv\n",
    "import numpy as np\n",
    "import pandas as pd\n",
    "import matplotlib.pyplot as plt\n",
    "import seaborn as sns"
   ]
  },
  {
   "cell_type": "code",
   "execution_count": 2,
   "id": "43f64a65",
   "metadata": {},
   "outputs": [
    {
     "name": "stdout",
     "output_type": "stream",
     "text": [
      "['Aamir Khan', 'Amitabh Bachan', 'Pankaj Tripathi', 'Sallu Bhai']\n"
     ]
    }
   ],
   "source": [
    "p=[]\n",
    "for i in os.listdir('C:/Users/Lenovo/OneDrive/Desktop/SAMPLE_COMPUTER_VISION PROJECT'):\n",
    "    p.append(i)\n",
    "print(p)"
   ]
  },
  {
   "cell_type": "code",
   "execution_count": 3,
   "id": "63e115c3",
   "metadata": {},
   "outputs": [],
   "source": [
    "DIR=r'C:/Users/Lenovo/OneDrive/Desktop/SAMPLE_COMPUTER_VISION PROJECT'"
   ]
  },
  {
   "cell_type": "code",
   "execution_count": 5,
   "id": "2a592982",
   "metadata": {},
   "outputs": [],
   "source": [
    "features=[]\n",
    "labels=[]\n",
    "haar_cascade=cv.CascadeClassifier('haar_cascade.xml')\n",
    "def create_train():\n",
    "    for person in p:\n",
    "        path=os.path.join(DIR,person)\n",
    "        label=p.index(person)\n",
    "        for img in os.listdir(path):\n",
    "            img_path=os.path.join(path,img)\n",
    "            img_array=cv.imread(img_path)\n",
    "            gray=cv.cvtColor(img_array,cv.COLOR_BGR2GRAY)\n",
    "            faces_rect=haar_cascade.detectMultiScale(gray,scaleFactor=1.1,minNeighbors=4)\n",
    "            for(x,y,w,h) in faces_rect:\n",
    "                faces_roi=gray[y:y+h,x:x+w]\n",
    "                features.append(faces_roi)\n",
    "                labels.append(label)\n",
    "create_train()"
   ]
  },
  {
   "cell_type": "code",
   "execution_count": 6,
   "id": "1519933c",
   "metadata": {},
   "outputs": [
    {
     "name": "stdout",
     "output_type": "stream",
     "text": [
      "Length of features = 30\n",
      "Length of labels = 30\n"
     ]
    }
   ],
   "source": [
    "print(f'Length of features = {len(features)}')\n",
    "print(f'Length of labels = {len(labels)}')"
   ]
  },
  {
   "cell_type": "code",
   "execution_count": 10,
   "id": "2360c692",
   "metadata": {},
   "outputs": [],
   "source": [
    "face_recognizer=cv.face.LBPHFaceRecognizer_create()\n",
    "labels=np.array(labels)\n",
    "features=np.array(features,dtype='object')\n",
    "face_recognizer.train(features,labels)"
   ]
  },
  {
   "cell_type": "code",
   "execution_count": 11,
   "id": "46c3e78a",
   "metadata": {},
   "outputs": [],
   "source": [
    "face_recognizer.save('face_trained.yml')\n",
    "np.save('features.npy',features)\n",
    "np.save('labels.npy',labels)"
   ]
  },
  {
   "cell_type": "code",
   "execution_count": 12,
   "id": "3792e4d4",
   "metadata": {},
   "outputs": [
    {
     "name": "stdout",
     "output_type": "stream",
     "text": [
      "['Aamir Khan', 'Amitabh Bachan', 'Pankaj Tripathi', 'Sallu Bhai']\n"
     ]
    }
   ],
   "source": [
    "print(p)"
   ]
  },
  {
   "cell_type": "code",
   "execution_count": null,
   "id": "6beaefcf",
   "metadata": {},
   "outputs": [],
   "source": []
  }
 ],
 "metadata": {
  "kernelspec": {
   "display_name": "Python 3 (ipykernel)",
   "language": "python",
   "name": "python3"
  },
  "language_info": {
   "codemirror_mode": {
    "name": "ipython",
    "version": 3
   },
   "file_extension": ".py",
   "mimetype": "text/x-python",
   "name": "python",
   "nbconvert_exporter": "python",
   "pygments_lexer": "ipython3",
   "version": "3.11.4"
  }
 },
 "nbformat": 4,
 "nbformat_minor": 5
}

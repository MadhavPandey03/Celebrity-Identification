{
 "cells": [
  {
   "cell_type": "code",
   "execution_count": 1,
   "id": "6a3cf637",
   "metadata": {},
   "outputs": [],
   "source": [
    "import cv2 as cv\n",
    "import numpy as np\n",
    "import pandas as pd"
   ]
  },
  {
   "cell_type": "code",
   "execution_count": 2,
   "id": "646ff50e",
   "metadata": {},
   "outputs": [],
   "source": [
    "haar_cascade=cv.CascadeClassifier('haar_cascade.xml')\n",
    "#features=np.load('features.npy',allow_pickle=True)\n",
    "#labels=np.load('labels.npy',allow_pickle=True)\n",
    "p=['Aamir Khan', 'Amitabh Bachan', 'Pankaj Tripathi', 'Sallu Bhai']"
   ]
  },
  {
   "cell_type": "code",
   "execution_count": null,
   "id": "bd686476",
   "metadata": {},
   "outputs": [
    {
     "name": "stdout",
     "output_type": "stream",
     "text": [
      "Label = Pankaj Tripathi with a confidence of 0.0\n"
     ]
    }
   ],
   "source": [
    "face_recognizer=cv.face.LBPHFaceRecognizer_create()\n",
    "face_recognizer.read('face_trained.yml')\n",
    "img=cv.imread('C:/Users/Lenovo/OneDrive/Desktop/SAMPLE_COMPUTER_VISION PROJECT/Pankaj Tripathi/PT_1.jpg')\n",
    "gray=cv.cvtColor(img,cv.COLOR_BGR2GRAY)\n",
    "cv.imshow('Person',gray)\n",
    "faces_rect=haar_cascade.detectMultiScale(gray,1.1,4)\n",
    "for (x,y,w,h) in faces_rect:\n",
    "    faces_roi=gray[y:y+h,x:x+w]\n",
    "    label,confidence=face_recognizer.predict(faces_roi)\n",
    "    print(f'Label = {p[label]} with a confidence of {confidence}')\n",
    "    cv.putText(img,str(p[label]),(20,20),cv.FONT_HERSHEY_COMPLEX,1,(0,255,0),thickness=2)\n",
    "    cv.rectangle(img,(x,y),(x+w,y+h),(0,255,255),thickness=2)\n",
    "cv.imshow('Detected Face',img)\n",
    "cv.waitKey(0)"
   ]
  },
  {
   "cell_type": "code",
   "execution_count": null,
   "id": "251c4ff7",
   "metadata": {},
   "outputs": [],
   "source": []
  }
 ],
 "metadata": {
  "kernelspec": {
   "display_name": "Python 3 (ipykernel)",
   "language": "python",
   "name": "python3"
  },
  "language_info": {
   "codemirror_mode": {
    "name": "ipython",
    "version": 3
   },
   "file_extension": ".py",
   "mimetype": "text/x-python",
   "name": "python",
   "nbconvert_exporter": "python",
   "pygments_lexer": "ipython3",
   "version": "3.11.4"
  }
 },
 "nbformat": 4,
 "nbformat_minor": 5
}
